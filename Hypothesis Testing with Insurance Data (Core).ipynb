{
 "cells": [
  {
   "cell_type": "markdown",
   "id": "044f3b7b",
   "metadata": {},
   "source": [
    "# Imports"
   ]
  },
  {
   "cell_type": "code",
   "execution_count": 1,
   "id": "594da20b",
   "metadata": {},
   "outputs": [],
   "source": [
    "import pandas as pd\n",
    "import numpy as np\n",
    "import seaborn as sns\n",
    "import matplotlib.pyplot as plt\n",
    "import scipy.stats as stats"
   ]
  },
  {
   "cell_type": "code",
   "execution_count": 2,
   "id": "fc0ff3a6",
   "metadata": {},
   "outputs": [
    {
     "data": {
      "text/html": [
       "<div>\n",
       "<style scoped>\n",
       "    .dataframe tbody tr th:only-of-type {\n",
       "        vertical-align: middle;\n",
       "    }\n",
       "\n",
       "    .dataframe tbody tr th {\n",
       "        vertical-align: top;\n",
       "    }\n",
       "\n",
       "    .dataframe thead th {\n",
       "        text-align: right;\n",
       "    }\n",
       "</style>\n",
       "<table border=\"1\" class=\"dataframe\">\n",
       "  <thead>\n",
       "    <tr style=\"text-align: right;\">\n",
       "      <th></th>\n",
       "      <th>age</th>\n",
       "      <th>sex</th>\n",
       "      <th>bmi</th>\n",
       "      <th>children</th>\n",
       "      <th>smoker</th>\n",
       "      <th>region</th>\n",
       "      <th>charges</th>\n",
       "    </tr>\n",
       "  </thead>\n",
       "  <tbody>\n",
       "    <tr>\n",
       "      <th>0</th>\n",
       "      <td>19</td>\n",
       "      <td>female</td>\n",
       "      <td>27.900</td>\n",
       "      <td>0</td>\n",
       "      <td>yes</td>\n",
       "      <td>southwest</td>\n",
       "      <td>16884.92400</td>\n",
       "    </tr>\n",
       "    <tr>\n",
       "      <th>1</th>\n",
       "      <td>18</td>\n",
       "      <td>male</td>\n",
       "      <td>33.770</td>\n",
       "      <td>1</td>\n",
       "      <td>no</td>\n",
       "      <td>southeast</td>\n",
       "      <td>1725.55230</td>\n",
       "    </tr>\n",
       "    <tr>\n",
       "      <th>2</th>\n",
       "      <td>28</td>\n",
       "      <td>male</td>\n",
       "      <td>33.000</td>\n",
       "      <td>3</td>\n",
       "      <td>no</td>\n",
       "      <td>southeast</td>\n",
       "      <td>4449.46200</td>\n",
       "    </tr>\n",
       "    <tr>\n",
       "      <th>3</th>\n",
       "      <td>33</td>\n",
       "      <td>male</td>\n",
       "      <td>22.705</td>\n",
       "      <td>0</td>\n",
       "      <td>no</td>\n",
       "      <td>northwest</td>\n",
       "      <td>21984.47061</td>\n",
       "    </tr>\n",
       "    <tr>\n",
       "      <th>4</th>\n",
       "      <td>32</td>\n",
       "      <td>male</td>\n",
       "      <td>28.880</td>\n",
       "      <td>0</td>\n",
       "      <td>no</td>\n",
       "      <td>northwest</td>\n",
       "      <td>3866.85520</td>\n",
       "    </tr>\n",
       "  </tbody>\n",
       "</table>\n",
       "</div>"
      ],
      "text/plain": [
       "   age     sex     bmi  children smoker     region      charges\n",
       "0   19  female  27.900         0    yes  southwest  16884.92400\n",
       "1   18    male  33.770         1     no  southeast   1725.55230\n",
       "2   28    male  33.000         3     no  southeast   4449.46200\n",
       "3   33    male  22.705         0     no  northwest  21984.47061\n",
       "4   32    male  28.880         0     no  northwest   3866.85520"
      ]
     },
     "execution_count": 2,
     "metadata": {},
     "output_type": "execute_result"
    }
   ],
   "source": [
    "df=pd.read_csv('https://docs.google.com/spreadsheets/d/e/2PACX-1vQBN8DPW2rdiRrY34eEM53HAzakNGSRrw4ogI-j8HyCUrbqTB_z4CeIn2IvjLF-w_6sOe5pIlypJGAA/pub?output=csv')\n",
    "df.head()"
   ]
  },
  {
   "cell_type": "markdown",
   "id": "4550b20e",
   "metadata": {
    "heading_collapsed": true
   },
   "source": [
    "# - Q1. Do smokers have higher insurance charges than non-smokers?\n"
   ]
  },
  {
   "cell_type": "markdown",
   "id": "94e73c06",
   "metadata": {
    "hidden": true
   },
   "source": [
    "1. State your Null Hypothesis and Alternative Hypothesis\n",
    "\n",
    "    Null Hypothesis:\n",
    "\n",
    "    There is no significant difference in insurance charges between smokers and non-smokers.\n",
    "\n",
    "    Alternative Hypothesis:\n",
    "    \n",
    "    There is a significant difference in the insurance charges between smokers and non-smokers\n",
    "    \n",
    "    \n",
    "2. Select the correct test according to the data type and number of samples\n",
    "\n",
    "    2 Sample T-test\n",
    "  \n",
    "  \n",
    "  \n",
    "3. Test the assumptions of your selected test.\n"
   ]
  },
  {
   "cell_type": "code",
   "execution_count": 3,
   "id": "7d72daf0",
   "metadata": {
    "hidden": true
   },
   "outputs": [],
   "source": [
    "# Creating smoker/non-smoker filters for tests\n",
    "smokers=df.loc[df['smoker']=='yes'].copy()\n",
    "non_smokers=df.loc[df['smoker']=='no'].copy()\n",
    "# finding charges in groups\n",
    "smoker_charges=smokers['charges']\n",
    "non_smoker_charges=non_smokers['charges']"
   ]
  },
  {
   "cell_type": "markdown",
   "id": "debe7628",
   "metadata": {
    "heading_collapsed": true,
    "hidden": true
   },
   "source": [
    "## Testing for Outliers"
   ]
  },
  {
   "cell_type": "code",
   "execution_count": 4,
   "id": "8393cd5d",
   "metadata": {
    "hidden": true
   },
   "outputs": [
    {
     "data": {
      "text/plain": [
       "0"
      ]
     },
     "execution_count": 4,
     "metadata": {},
     "output_type": "execute_result"
    }
   ],
   "source": [
    "# checking smoker group\n",
    "smoker_zscore=stats.zscore(smoker_charges)\n",
    "smoker_outliers=abs(smoker_zscore)>3\n",
    "np.sum(smoker_outliers)"
   ]
  },
  {
   "cell_type": "code",
   "execution_count": 5,
   "id": "f0f8513a",
   "metadata": {
    "hidden": true
   },
   "outputs": [
    {
     "data": {
      "text/plain": [
       "24"
      ]
     },
     "execution_count": 5,
     "metadata": {},
     "output_type": "execute_result"
    }
   ],
   "source": [
    "# checking non-smoker group\n",
    "non_smoker_zscore=stats.zscore(non_smoker_charges)\n",
    "non_smoker_outliers=abs(non_smoker_zscore)>3\n",
    "np.sum(non_smoker_outliers)"
   ]
  },
  {
   "cell_type": "code",
   "execution_count": 6,
   "id": "2a97f9d0",
   "metadata": {
    "hidden": true
   },
   "outputs": [],
   "source": [
    "# Removing outliers using loop\n",
    "while np.sum(non_smoker_outliers)>0 and len(non_smoker_outliers)>0:\n",
    "    non_smoker_charges=non_smoker_charges[(np.abs(stats.zscore(non_smoker_charges))<3)]\n",
    "    non_smoker_zscore=stats.zscore(non_smoker_charges)\n",
    "    non_smoker_outliers=abs(non_smoker_zscore)>3\n",
    "    np.sum(non_smoker_outliers)"
   ]
  },
  {
   "cell_type": "code",
   "execution_count": 7,
   "id": "1c667c04",
   "metadata": {
    "hidden": true
   },
   "outputs": [
    {
     "data": {
      "text/plain": [
       "0"
      ]
     },
     "execution_count": 7,
     "metadata": {},
     "output_type": "execute_result"
    }
   ],
   "source": [
    "# rechecking non-smoker group\n",
    "non_smoker_zscore=stats.zscore(non_smoker_charges)\n",
    "non_smoker_outliers=abs(non_smoker_zscore)>3\n",
    "np.sum(non_smoker_outliers)"
   ]
  },
  {
   "cell_type": "markdown",
   "id": "d7f83eb1",
   "metadata": {
    "heading_collapsed": true,
    "hidden": true
   },
   "source": [
    "## Testing Assumption of Normality"
   ]
  },
  {
   "cell_type": "code",
   "execution_count": 8,
   "id": "58ffdd19",
   "metadata": {
    "hidden": true,
    "scrolled": false
   },
   "outputs": [
    {
     "data": {
      "image/png": "[encoded data removed]",
      "text/plain": [
       "<Figure size 640x480 with 1 Axes>"
      ]
     },
     "metadata": {},
     "output_type": "display_data"
    },
    {
     "data": {
      "text/plain": [
       "no     1064\n",
       "yes     274\n",
       "Name: smoker, dtype: int64"
      ]
     },
     "execution_count": 8,
     "metadata": {},
     "output_type": "execute_result"
    }
   ],
   "source": [
    "sns.histplot(df['smoker'])\n",
    "plt.title('Smokers vs. Non-Smokers')\n",
    "plt.xlabel('Smoking Status')\n",
    "plt.xticks(ticks=range(0,2),labels=['Smoker','Non-Smoker'])\n",
    "plt.show();\n",
    "df['smoker'].value_counts()"
   ]
  },
  {
   "cell_type": "markdown",
   "id": "f1b9bf2b",
   "metadata": {
    "hidden": true
   },
   "source": [
    "We have more than 15 samples in each group. The normality test is unnecessary. "
   ]
  },
  {
   "cell_type": "markdown",
   "id": "a19ca34b",
   "metadata": {
    "heading_collapsed": true,
    "hidden": true
   },
   "source": [
    "## Testing Assumption of Equal Variance"
   ]
  },
  {
   "cell_type": "code",
   "execution_count": 9,
   "id": "7a523438",
   "metadata": {
    "hidden": true
   },
   "outputs": [
    {
     "data": {
      "text/plain": [
       "LeveneResult(statistic=791.4740947105306, pvalue=7.254211040409339e-136)"
      ]
     },
     "execution_count": 9,
     "metadata": {},
     "output_type": "execute_result"
    }
   ],
   "source": [
    "# Performing Levene's test\n",
    "stats.levene(smoker_charges, non_smoker_charges)"
   ]
  },
  {
   "cell_type": "markdown",
   "id": "8b924a82",
   "metadata": {
    "hidden": true
   },
   "source": [
    "Since we have unequal variances between groups we will include `equal_var=False` during our t-test."
   ]
  },
  {
   "cell_type": "markdown",
   "id": "49711c3f",
   "metadata": {
    "heading_collapsed": true,
    "hidden": true
   },
   "source": [
    "## Performing Independent T-test"
   ]
  },
  {
   "cell_type": "code",
   "execution_count": 11,
   "id": "1df153fd",
   "metadata": {
    "hidden": true
   },
   "outputs": [
    {
     "data": {
      "text/plain": [
       "Ttest_indResult(statistic=34.76759075466699, pvalue=5.672680697343108e-106)"
      ]
     },
     "execution_count": 11,
     "metadata": {},
     "output_type": "execute_result"
    }
   ],
   "source": [
    "stats.ttest_ind(smoker_charges,non_smoker_charges,equal_var=False)"
   ]
  },
  {
   "cell_type": "markdown",
   "id": "f1f8f846",
   "metadata": {
    "hidden": true
   },
   "source": [
    "We have a p-value less than our significance level, thus we reject the null hypothesis.\n",
    "There is a significant difference in the insurance charges between smokers and non-smokers.\n"
   ]
  },
  {
   "cell_type": "markdown",
   "id": "1ca5cc90",
   "metadata": {
    "heading_collapsed": true,
    "hidden": true
   },
   "source": [
    "## Visualization"
   ]
  },
  {
   "cell_type": "code",
   "execution_count": 15,
   "id": "d401fabc",
   "metadata": {
    "hidden": true
   },
   "outputs": [
    {
     "data": {
      "image/png": "[encoded data removed]",
      "text/plain": [
       "<Figure size 640x480 with 1 Axes>"
      ]
     },
     "metadata": {},
     "output_type": "display_data"
    }
   ],
   "source": [
    "sns.barplot(x=['Smoker','Non-smoker'],y=[smoker_charges.mean(),non_smoker_charges.mean()])\n",
    "plt.title('Average Insurance Charges Between Smokers and Non-Smokers');"
   ]
  },
  {
   "cell_type": "markdown",
   "id": "208174ad",
   "metadata": {
    "hidden": true
   },
   "source": [
    "There is a significant difference in the insurance charges between smokers and non-smokers."
   ]
  },
  {
   "cell_type": "markdown",
   "id": "6b6dc74b",
   "metadata": {
    "heading_collapsed": true
   },
   "source": [
    "# - Q2. Are men more likely to smoke than women?\n"
   ]
  },
  {
   "cell_type": "markdown",
   "id": "c0e5a195",
   "metadata": {
    "hidden": true
   },
   "source": [
    "1. State your Null Hypothesis and Alternative Hypothesis\n",
    "\n",
    "    Null Hypothesis:\n",
    "\n",
    "    There is no signficant difference in between the amount of male smokers and the amount of female smokers.\n",
    "\n",
    "    Alternative Hypothesis:\n",
    "    \n",
    "    There is a signficant difference in between the amount of male smokers and the amount of female smokers.    \n",
    "    \n",
    "    \n",
    "2. Select the correct test according to the data type and number of samples\n",
    "\n",
    "      Chi-Square Test\n"
   ]
  },
  {
   "cell_type": "markdown",
   "id": "0a7dea7f",
   "metadata": {
    "heading_collapsed": true,
    "hidden": true
   },
   "source": [
    "## Evaluating Samples with Contingency Table"
   ]
  },
  {
   "cell_type": "code",
   "execution_count": 29,
   "id": "77868242",
   "metadata": {
    "hidden": true
   },
   "outputs": [
    {
     "data": {
      "text/html": [
       "<div>\n",
       "<style scoped>\n",
       "    .dataframe tbody tr th:only-of-type {\n",
       "        vertical-align: middle;\n",
       "    }\n",
       "\n",
       "    .dataframe tbody tr th {\n",
       "        vertical-align: top;\n",
       "    }\n",
       "\n",
       "    .dataframe thead th {\n",
       "        text-align: right;\n",
       "    }\n",
       "</style>\n",
       "<table border=\"1\" class=\"dataframe\">\n",
       "  <thead>\n",
       "    <tr style=\"text-align: right;\">\n",
       "      <th>smoker</th>\n",
       "      <th>no</th>\n",
       "      <th>yes</th>\n",
       "    </tr>\n",
       "    <tr>\n",
       "      <th>sex</th>\n",
       "      <th></th>\n",
       "      <th></th>\n",
       "    </tr>\n",
       "  </thead>\n",
       "  <tbody>\n",
       "    <tr>\n",
       "      <th>female</th>\n",
       "      <td>547</td>\n",
       "      <td>115</td>\n",
       "    </tr>\n",
       "    <tr>\n",
       "      <th>male</th>\n",
       "      <td>517</td>\n",
       "      <td>159</td>\n",
       "    </tr>\n",
       "  </tbody>\n",
       "</table>\n",
       "</div>"
      ],
      "text/plain": [
       "smoker   no  yes\n",
       "sex             \n",
       "female  547  115\n",
       "male    517  159"
      ]
     },
     "execution_count": 29,
     "metadata": {},
     "output_type": "execute_result"
    }
   ],
   "source": [
    "table=pd.crosstab(df['sex'],df['smoker'])\n",
    "table"
   ]
  },
  {
   "cell_type": "markdown",
   "id": "38764e8a",
   "metadata": {
    "heading_collapsed": true,
    "hidden": true
   },
   "source": [
    "## Assumptions\n",
    "Our groups only contain categorical nominal values.\n",
    "Our outcomes are independent.\n",
    "All assumptions are met."
   ]
  },
  {
   "cell_type": "markdown",
   "id": "d470efc9",
   "metadata": {
    "heading_collapsed": true,
    "hidden": true
   },
   "source": [
    "## Performing Chi-Squared Test"
   ]
  },
  {
   "cell_type": "code",
   "execution_count": 52,
   "id": "dedeaae1",
   "metadata": {
    "hidden": true
   },
   "outputs": [
    {
     "name": "stdout",
     "output_type": "stream",
     "text": [
      "0.006548143503580696\n"
     ]
    },
    {
     "data": {
      "text/plain": [
       "True"
      ]
     },
     "execution_count": 52,
     "metadata": {},
     "output_type": "execute_result"
    }
   ],
   "source": [
    "# Running test and saving outputs\n",
    "result = stats.chi2_contingency(table)\n",
    "chi2, p, deg_free, expected_vals = result \n",
    "print(p)\n",
    "# is pvalue less than .05?\n",
    "p<.05"
   ]
  },
  {
   "cell_type": "markdown",
   "id": "2b0a3782",
   "metadata": {
    "hidden": true
   },
   "source": [
    "We have a significant result. We reject the null hypothesis.\n",
    "\n",
    "There is a signficant difference in between the amount of male smokers and the amount of female smokers.  "
   ]
  },
  {
   "cell_type": "markdown",
   "id": "8c5df52f",
   "metadata": {
    "heading_collapsed": true,
    "hidden": true
   },
   "source": [
    "## Visualizing smokers by sex\n"
   ]
  },
  {
   "cell_type": "code",
   "execution_count": 26,
   "id": "ac265f18",
   "metadata": {
    "hidden": true
   },
   "outputs": [
    {
     "data": {
      "image/png": "[encoded data removed]",
      "text/plain": [
       "<Figure size 640x480 with 1 Axes>"
      ]
     },
     "metadata": {},
     "output_type": "display_data"
    }
   ],
   "source": [
    "ax=sns.countplot(x=df['sex'],hue=df['smoker'])\n",
    "plt.title('Smoking Status of Males and Females')\n",
    "plt.show();"
   ]
  },
  {
   "cell_type": "markdown",
   "id": "4314719f",
   "metadata": {},
   "source": [
    "# - Q3. Do different regions have different charges, on average?\n",
    "\n"
   ]
  },
  {
   "cell_type": "markdown",
   "id": "06ff311e",
   "metadata": {},
   "source": [
    "1. State your Null Hypothesis and Alternative Hypothesis\n",
    "\n",
    "    Null Hypothesis:\n",
    "\n",
    "    There is no significant difference in insurance charges between different regions, on average.\n",
    "\n",
    "    Alternative Hypothesis:\n",
    "    \n",
    "    There is a significant difference in insurance charges between different regions, on average.\n",
    "    \n",
    "    \n",
    "2. Select the correct test according to the data type and number of samples\n",
    "\n",
    "    ANOVA\n",
    "  "
   ]
  },
  {
   "cell_type": "markdown",
   "id": "6db6e6f5",
   "metadata": {},
   "source": [
    "## Separating Groups"
   ]
  },
  {
   "cell_type": "code",
   "execution_count": 56,
   "id": "73b7d229",
   "metadata": {},
   "outputs": [
    {
     "data": {
      "text/plain": [
       "dict_keys(['southwest', 'southeast', 'northwest', 'northeast'])"
      ]
     },
     "execution_count": 56,
     "metadata": {},
     "output_type": "execute_result"
    }
   ],
   "source": [
    "## Create groups dictionary. There are only 3 groups, but this is even more helpful when there are many groups\n",
    "groups = {}\n",
    "## Loop through all unique categories\n",
    "for i in df['region'].unique():\n",
    "    ## Get series for group and rename\n",
    "    data = df.loc[df['region']==i,'charges'].copy()\n",
    "    \n",
    "    # save into the dictionary\n",
    "    groups[i] = data\n",
    "groups.keys()"
   ]
  },
  {
   "cell_type": "markdown",
   "id": "aae10fa6",
   "metadata": {},
   "source": [
    "## Testing Assumption of Normality"
   ]
  },
  {
   "cell_type": "code",
   "execution_count": 58,
   "id": "883e5b92",
   "metadata": {},
   "outputs": [
    {
     "data": {
      "text/html": [
       "<div>\n",
       "<style scoped>\n",
       "    .dataframe tbody tr th:only-of-type {\n",
       "        vertical-align: middle;\n",
       "    }\n",
       "\n",
       "    .dataframe tbody tr th {\n",
       "        vertical-align: top;\n",
       "    }\n",
       "\n",
       "    .dataframe thead th {\n",
       "        text-align: right;\n",
       "    }\n",
       "</style>\n",
       "<table border=\"1\" class=\"dataframe\">\n",
       "  <thead>\n",
       "    <tr style=\"text-align: right;\">\n",
       "      <th></th>\n",
       "      <th>n</th>\n",
       "      <th>p</th>\n",
       "      <th>test stat</th>\n",
       "      <th>sig</th>\n",
       "    </tr>\n",
       "  </thead>\n",
       "  <tbody>\n",
       "    <tr>\n",
       "      <th>southwest</th>\n",
       "      <td>325.0</td>\n",
       "      <td>6.125298e-23</td>\n",
       "      <td>102.294059</td>\n",
       "      <td>True</td>\n",
       "    </tr>\n",
       "    <tr>\n",
       "      <th>southeast</th>\n",
       "      <td>364.0</td>\n",
       "      <td>4.953297e-15</td>\n",
       "      <td>65.877446</td>\n",
       "      <td>True</td>\n",
       "    </tr>\n",
       "    <tr>\n",
       "      <th>northwest</th>\n",
       "      <td>325.0</td>\n",
       "      <td>5.184209e-24</td>\n",
       "      <td>107.232850</td>\n",
       "      <td>True</td>\n",
       "    </tr>\n",
       "    <tr>\n",
       "      <th>northeast</th>\n",
       "      <td>324.0</td>\n",
       "      <td>1.455431e-19</td>\n",
       "      <td>86.747629</td>\n",
       "      <td>True</td>\n",
       "    </tr>\n",
       "  </tbody>\n",
       "</table>\n",
       "</div>"
      ],
      "text/plain": [
       "               n             p   test stat   sig\n",
       "southwest  325.0  6.125298e-23  102.294059  True\n",
       "southeast  364.0  4.953297e-15   65.877446  True\n",
       "northwest  325.0  5.184209e-24  107.232850  True\n",
       "northeast  324.0  1.455431e-19   86.747629  True"
      ]
     },
     "execution_count": 58,
     "metadata": {},
     "output_type": "execute_result"
    }
   ],
   "source": [
    "## Running normal test on each group and confirming there are >20 in each group\n",
    "norm_results = {}\n",
    "for i, data in groups.items():\n",
    "    stat, p = stats.normaltest(data)\n",
    "    ## save the p val, test statistic, and the size of the group\n",
    "    norm_results[i] = {'n': len(data),\n",
    "                             'p':p,\n",
    "                             'test stat':stat,}\n",
    "# converting to a dataframe\n",
    "norm_results_df = pd.DataFrame(norm_results).T\n",
    "# adding sig level to df\n",
    "norm_results_df['sig'] = norm_results_df['p'] < .05 \n",
    "norm_results_df"
   ]
  },
  {
   "cell_type": "markdown",
   "id": "cbf0f7bb",
   "metadata": {},
   "source": [
    "Groups are not normal but n is large enough to continue with tests."
   ]
  },
  {
   "cell_type": "markdown",
   "id": "a9a0a429",
   "metadata": {},
   "source": [
    "## Testing Assumption of Equal Variance\n"
   ]
  },
  {
   "cell_type": "code",
   "execution_count": 59,
   "id": "532fff5b",
   "metadata": {},
   "outputs": [
    {
     "data": {
      "text/plain": [
       "LeveneResult(statistic=5.559966758410606, pvalue=0.0008610590250786703)"
      ]
     },
     "execution_count": 59,
     "metadata": {},
     "output_type": "execute_result"
    }
   ],
   "source": [
    "# With the Levene's test\n",
    "stats.levene(*groups.values())"
   ]
  },
  {
   "cell_type": "markdown",
   "id": "ae5c08a5",
   "metadata": {},
   "source": [
    "We did not meet the assumption of equal variance, so we will need to perform a Kruskal-Wallis test."
   ]
  },
  {
   "cell_type": "code",
   "execution_count": 60,
   "id": "83036f77",
   "metadata": {},
   "outputs": [
    {
     "data": {
      "text/plain": [
       "KruskalResult(statistic=4.734181215658743, pvalue=0.19232908072121002)"
      ]
     },
     "execution_count": 60,
     "metadata": {},
     "output_type": "execute_result"
    }
   ],
   "source": [
    "stats.kruskal(*groups.values())\n"
   ]
  },
  {
   "cell_type": "markdown",
   "id": "e55ba584",
   "metadata": {},
   "source": [
    "Since our p-value is greater than 0.05, we fail to reject the null hypothesis.\n",
    "\n",
    "There is a significant difference in insurance charges between different regions, on average.\n"
   ]
  },
  {
   "cell_type": "markdown",
   "id": "6f95727c",
   "metadata": {},
   "source": [
    "## Visualization "
   ]
  },
  {
   "cell_type": "code",
   "execution_count": 62,
   "id": "dfdcf90a",
   "metadata": {},
   "outputs": [
    {
     "data": {
      "image/png": "[encoded data removed]",
      "text/plain": [
       "<Figure size 640x480 with 1 Axes>"
      ]
     },
     "metadata": {},
     "output_type": "display_data"
    }
   ],
   "source": [
    "# Visualizing charges per region\n",
    "sns.barplot(x=df['region'],y=df['charges'])\n",
    "plt.title('Charges per Region');"
   ]
  }
 ],
 "metadata": {
  "kernelspec": {
   "display_name": "Python (dojo-env)",
   "language": "python",
   "name": "dojo-env"
  },
  "language_info": {
   "codemirror_mode": {
    "name": "ipython",
    "version": 3
   },
   "file_extension": ".py",
   "mimetype": "text/x-python",
   "name": "python",
   "nbconvert_exporter": "python",
   "pygments_lexer": "ipython3",
   "version": "3.9.15"
  },
  "toc": {
   "base_numbering": 1,
   "nav_menu": {},
   "number_sections": false,
   "sideBar": true,
   "skip_h1_title": false,
   "title_cell": "Table of Contents",
   "title_sidebar": "Contents",
   "toc_cell": false,
   "toc_position": {
    "height": "calc(100% - 180px)",
    "left": "10px",
    "top": "150px",
    "width": "165px"
   },
   "toc_section_display": true,
   "toc_window_display": false
  }
 },
 "nbformat": 4,
 "nbformat_minor": 5
}
